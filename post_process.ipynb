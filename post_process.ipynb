{
 "cells": [
  {
   "cell_type": "code",
   "execution_count": 1,
   "metadata": {},
   "outputs": [],
   "source": [
    "import torch \n",
    "import numpy as np \n",
    "from deep_ensemble import deep_ensemble_FP as deep_ensemble_MLP\n",
    "from deep_ensemble import deep_ensemble_Graph as deep_ensemble_Graph\n",
    "import math \n",
    "import argparse\n",
    "import sys\n",
    "from tqdm import tqdm \n",
    "from collections import OrderedDict\n",
    "import matplotlib.pyplot as plt\n",
    "# import get_fsmol_dataloader as fsmol\n",
    "import seaborn as sns\n",
    "from EDKT_data.Data_FP_fsmol import deep_gp_data as deep_gp_data_fp\n",
    "from EDKT_data.Data_Graph_fsmol import deep_gp_data as deep_gp_data_graph\n",
    "import pickle \n",
    "import os"
   ]
  },
  {
   "cell_type": "markdown",
   "metadata": {},
   "source": [
    "## Load Data"
   ]
  },
  {
   "cell_type": "code",
   "execution_count": 2,
   "metadata": {},
   "outputs": [],
   "source": [
    "assay_id_train_test_split = np.load('../Data_for_publication/fsmol/split_dic.pkl', allow_pickle=True)\n",
    "test_assay_ls = assay_id_train_test_split['test_assays']\n",
    "eval_assay_ls = assay_id_train_test_split['valid_assays']\n",
    "\n",
    "few_shot_number = 32\n",
    "\n",
    "# load fp data\n",
    "data_path = '../Data_for_publication/fsmol/all_data_fp.pkl'\n",
    "data_path_test = f'../Data_for_publication/fsmol/all_data_fp_test_10fold_{few_shot_number}.pkl'\n",
    "data_path_valid = f'../Data_for_publication/fsmol/all_data_fp_valid_10fold_{few_shot_number}.pkl'\n",
    "data_test_fp = deep_gp_data_fp(data_path, data_path_test)\n",
    "data_valid_fp = deep_gp_data_fp(data_path, data_path_valid)\n",
    "# load graph data\n",
    "data_path = '../Data_for_publication/fsmol/all_data_graph.pkl'\n",
    "data_path_test = f'../Data_for_publication/fsmol/all_data_graph_test_10fold_{few_shot_number}.pkl'\n",
    "data_path_valid = f'../Data_for_publication/fsmol/all_data_graph_valid_10fold_{few_shot_number}.pkl'\n",
    "data_test_graph = deep_gp_data_graph(data_path, data_path_test)\n",
    "data_valid_graph = deep_gp_data_graph(data_path, data_path_valid)"
   ]
  },
  {
   "cell_type": "markdown",
   "metadata": {},
   "source": [
    "## Load Model "
   ]
  },
  {
   "cell_type": "code",
   "execution_count": 3,
   "metadata": {},
   "outputs": [],
   "source": [
    "def parse_args(args_list=None):\n",
    "    parser = argparse.ArgumentParser(description=\"DeepGP Training Script\")\n",
    "    parser.add_argument(\"--random_seed\", type=int, default=42, help=\"random_seed\")\n",
    "    parser.add_argument(\"--dataset\", type=str, help=\"what dataset to use\", default='fsmol')\n",
    "    parser.add_argument(\"--encode_method\", type=str, help=\"what encoder to use\", default='FP')\n",
    "    parser.add_argument(\"--num_encoder\", type=int, default=2, help=\"num_encoder\")\n",
    "    parser.add_argument(\"--allow_NCL\", action=\"store_true\", help=\"whether use NCL\")\n",
    "    \n",
    "    # First parse to get dataset and encode_method\n",
    "    temp_args, _ = parser.parse_known_args(args_list)\n",
    "    \n",
    "    if temp_args.dataset == 'fsmol':\n",
    "        parser.add_argument(\"--FP_input_dim\", type=int, default=2024, help=\"FP input dimension\")\n",
    "        parser.add_argument(\"--Graph_input_dim\", type=int, default=32, help=\"Graph input dimension\")\n",
    "    elif temp_args.dataset == 'pQSAR':\n",
    "        parser.add_argument(\"--FP_input_dim\", type=int, default=1024, help=\"FP input dimension\")\n",
    "        parser.add_argument(\"--Graph_input_dim\", type=int, default=30, help=\"Graph input dimension\")\n",
    "        parser.add_argument(\"--group_id\", type=int, default=0, help=\"group_id\")\n",
    "    \n",
    "    parser.add_argument(\"--world_size\", type=int, default=6, help=\"number of GPUs to use\")\n",
    "    parser.add_argument(\"--batch_size\", type=int, default=10, help=\"batch size\")\n",
    "    if 'FP' in temp_args.encode_method:\n",
    "        parser.add_argument(\"--lr\", type=float, help=\"learning rate\", default=0.001)\n",
    "    elif 'Graph' in temp_args.encode_method:\n",
    "        parser.add_argument(\"--lr\", type=float, help=\"learning rate\", default=0.0005)\n",
    "    \n",
    "    args = parser.parse_args(args_list)\n",
    "    \n",
    "    # Import required modules based on arguments\n",
    "    if 'FP' in args.encode_method:\n",
    "        from deep_ensemble import deep_ensemble_FP as deep_ensemble\n",
    "        if args.dataset == 'fsmol':\n",
    "            from EDKT_data.Data_FP_fsmol import deep_gp_data\n",
    "            from DKT_dataset import MLP_train_dataset_fsmol as train_dataset \n",
    "            from DKT_dataset import MLP_eval_dataset_fsmol as eval_dataset\n",
    "        elif args.dataset == 'pQSAR':\n",
    "            from EDKT_data.Data_FP_pQSAR import deep_gp_data\n",
    "            from DKT_dataset import MLP_train_dataset_pQSAR as train_dataset\n",
    "            from DKT_dataset import MLP_eval_dataset_pQSAR as eval_dataset\n",
    "    elif 'Graph' in args.encode_method:\n",
    "        from deep_ensemble import deep_ensemble_Graph as deep_ensemble\n",
    "        if args.dataset == 'fsmol':\n",
    "            from EDKT_data.Data_Graph_fsmol import deep_gp_data\n",
    "            from DKT_dataset import Graph_train_dataset_fsmol as train_dataset\n",
    "            from DKT_dataset import Graph_eval_dataset_fsmol as eval_dataset\n",
    "        elif args.dataset == 'pQSAR':\n",
    "            from EDKT_data.Data_Graph_pQSAR import deep_gp_data\n",
    "            from DKT_dataset import Graph_train_dataset_pQSAR as train_dataset\n",
    "            from DKT_dataset import Graph_eval_dataset_pQSAR as eval_dataset\n",
    "    \n",
    "    # Add imported modules to args\n",
    "    args.deep_ensemble = deep_ensemble\n",
    "    args.deep_gp_data = deep_gp_data\n",
    "    args.train_dataset = train_dataset\n",
    "    args.eval_dataset = eval_dataset\n",
    "    \n",
    "    return args"
   ]
  },
  {
   "cell_type": "markdown",
   "metadata": {},
   "source": [
    "#### Load FP model "
   ]
  },
  {
   "cell_type": "code",
   "execution_count": 4,
   "metadata": {},
   "outputs": [],
   "source": [
    "import importlib\n",
    "importlib.reload(deep_ensemble_MLP)\n",
    "def load_fp_model(model_args):\n",
    "    try:\n",
    "        fp_model = deep_ensemble_MLP.ensemble_deep_gp(model_args)\n",
    "        # Load state dict\n",
    "        model_path = f'../Model_for_publication/Dataset:{model_args.dataset}_Method:{model_args.encode_method}_Num:{model_args.num_encoder}_NCL:{model_args.allow_NCL}_seed:{model_args.random_seed}.pth'\n",
    "        state_dict = torch.load(model_path)\n",
    "        # Process state dict\n",
    "        new_state_dict = OrderedDict()\n",
    "        for k, v in state_dict.items():\n",
    "            name = k[7:] if k.startswith('module.') else k\n",
    "            new_state_dict[name] = v\n",
    "        # Load and verify\n",
    "        fp_model.load_state_dict(new_state_dict)\n",
    "        fp_model.eval()\n",
    "        # print(f\"✓ FP Model loaded successfully from {model_path}\")\n",
    "        return fp_model\n",
    "        \n",
    "    except Exception as e:\n",
    "        # print(f\"✗ Failed to load FP model: {str(e)}\")\n",
    "        return None"
   ]
  },
  {
   "cell_type": "markdown",
   "metadata": {},
   "source": [
    "#### Load graph model "
   ]
  },
  {
   "cell_type": "code",
   "execution_count": 5,
   "metadata": {},
   "outputs": [],
   "source": [
    "import importlib\n",
    "importlib.reload(deep_ensemble_Graph)\n",
    "def load_graph_model(model_args):\n",
    "    try:\n",
    "        graph_model = deep_ensemble_Graph.ensemble_deep_gp(model_args)\n",
    "        \n",
    "        # Load state dict\n",
    "        model_path = f'../Model_for_publication/Dataset:{model_args.dataset}_Method:{model_args.encode_method}_Num:{model_args.num_encoder}_NCL:{model_args.allow_NCL}_seed:{model_args.random_seed}.pth'\n",
    "        state_dict = torch.load(model_path)\n",
    "        \n",
    "        # Process state dict\n",
    "        new_state_dict = OrderedDict()\n",
    "        for k, v in state_dict.items():\n",
    "            name = k[7:] if k.startswith('module.') else k\n",
    "            new_state_dict[name] = v\n",
    "            \n",
    "        # Load and verify\n",
    "        graph_model.load_state_dict(new_state_dict)\n",
    "        graph_model.eval()\n",
    "        \n",
    "        # print(f\"✓ Model loaded successfully from {model_path}\")\n",
    "        return graph_model\n",
    "        \n",
    "    except Exception as e:\n",
    "        # print(f\"✗ Failed to load model: {str(e)}\")\n",
    "        return None"
   ]
  },
  {
   "cell_type": "markdown",
   "metadata": {},
   "source": [
    "#### Utils functions"
   ]
  },
  {
   "cell_type": "code",
   "execution_count": 6,
   "metadata": {},
   "outputs": [],
   "source": [
    "def get_model_performance_overall_fp(assay_ls, model, folde_id, mode = 'test'):\n",
    "    r2_ls = []\n",
    "    for assay_id in assay_ls:\n",
    "        if mode == 'test':\n",
    "            task_data = data_test_fp.tensorize_test(assay_id, folde_id)\n",
    "        elif mode == 'valid':\n",
    "             task_data = data_valid_fp.tensorize_test(assay_id, folde_id)\n",
    "        prediction = model.prediction(task_data, 'cpu')\n",
    "        y_label = task_data[3]\n",
    "        r2 = np.corrcoef(torch.tensor(y_label).reshape(-1), prediction.detach().cpu().numpy().reshape(-1))[0,1]**2\n",
    "        r2_ls.append(r2)\n",
    "    return r2_ls\n",
    "\n",
    "def get_model_performance_overall_graph(assay_ls, model, folde_id, mode = 'test'):\n",
    "    r2_ls = []\n",
    "    for assay_id in assay_ls:\n",
    "        if mode == 'test':\n",
    "            task_data = data_test_graph.smiles_to_graph_test(assay_id, folde_id)\n",
    "        elif mode == 'valid':\n",
    "             task_data = data_valid_graph.smiles_to_graph_test(assay_id, folde_id)\n",
    "        prediction = model.prediction(task_data, 'cpu')\n",
    "        y_label = task_data[3]\n",
    "        r2 = np.corrcoef(torch.tensor(y_label).reshape(-1), prediction.detach().cpu().numpy().reshape(-1))[0,1]**2\n",
    "        r2_ls.append(r2)\n",
    "    return r2_ls"
   ]
  },
  {
   "cell_type": "code",
   "execution_count": 7,
   "metadata": {},
   "outputs": [
    {
     "name": "stderr",
     "output_type": "stream",
     "text": [
      "/tmp/ipykernel_1852812/294271057.py:8: FutureWarning: You are using `torch.load` with `weights_only=False` (the current default value), which uses the default pickle module implicitly. It is possible to construct malicious pickle data which will execute arbitrary code during unpickling (See https://github.com/pytorch/pytorch/blob/main/SECURITY.md#untrusted-models for more details). In a future release, the default value for `weights_only` will be flipped to `True`. This limits the functions that could be executed during unpickling. Arbitrary objects will no longer be allowed to be loaded via this mode unless they are explicitly allowlisted by the user via `torch.serialization.add_safe_globals`. We recommend you start setting `weights_only=True` for any use case where you don't have full control of the loaded file. Please open an issue on GitHub for any issues related to this experimental feature.\n",
      "  state_dict = torch.load(model_path)\n"
     ]
    },
    {
     "name": "stdout",
     "output_type": "stream",
     "text": [
      "✓ FP Model loaded successfully from ../Model_for_publication/Dataset:fsmol_Method:FP_Num:50_NCL:False_seed:42.pth\n"
     ]
    }
   ],
   "source": [
    "# Usage example:\n",
    "model_args = [\n",
    "    \"--num_encoder\", \"50\",\n",
    "    \"--dataset\", \"fsmol\",\n",
    "    \"--encode_method\", \"FP\",\n",
    "]\n",
    "args_fp = parse_args(model_args)\n",
    "fp_model = load_fp_model(args_fp)"
   ]
  },
  {
   "cell_type": "code",
   "execution_count": 8,
   "metadata": {},
   "outputs": [
    {
     "name": "stdout",
     "output_type": "stream",
     "text": [
      "✓ Model loaded successfully from ../Model_for_publication/Dataset:fsmol_Method:GraphGAT_Num:2_NCL:False_seed:0.pth\n"
     ]
    },
    {
     "name": "stderr",
     "output_type": "stream",
     "text": [
      "/tmp/ipykernel_1852812/2266367852.py:9: FutureWarning: You are using `torch.load` with `weights_only=False` (the current default value), which uses the default pickle module implicitly. It is possible to construct malicious pickle data which will execute arbitrary code during unpickling (See https://github.com/pytorch/pytorch/blob/main/SECURITY.md#untrusted-models for more details). In a future release, the default value for `weights_only` will be flipped to `True`. This limits the functions that could be executed during unpickling. Arbitrary objects will no longer be allowed to be loaded via this mode unless they are explicitly allowlisted by the user via `torch.serialization.add_safe_globals`. We recommend you start setting `weights_only=True` for any use case where you don't have full control of the loaded file. Please open an issue on GitHub for any issues related to this experimental feature.\n",
      "  state_dict = torch.load(model_path)\n"
     ]
    }
   ],
   "source": [
    "# Usage example:\n",
    "model_args = [\n",
    "    \"--num_encoder\", \"2\",\n",
    "    \"--dataset\", \"fsmol\",\n",
    "    \"--encode_method\", \"GraphGAT\",\n",
    "    \"--random_seed\", \"0\",\n",
    "]\n",
    "args_graph = parse_args(model_args)\n",
    "graph_model = load_graph_model(args_graph)"
   ]
  },
  {
   "cell_type": "code",
   "execution_count": null,
   "metadata": {},
   "outputs": [
    {
     "name": "stdout",
     "output_type": "stream",
     "text": [
      "0.2989472942854827\n"
     ]
    }
   ],
   "source": [
    "# r2_ls_fp = get_model_performance_overall_fp(test_assay_ls, fp_model, 0 ,'test')\n",
    "# print(np.mean(r2_ls_fp))\n",
    "# r2_ls_graph = get_model_performance_overall_graph(test_assay_ls, graph_model, 0, 'test')\n",
    "# print(np.mean(r2_ls_graph))"
   ]
  },
  {
   "cell_type": "code",
   "execution_count": 24,
   "metadata": {},
   "outputs": [],
   "source": [
    "def get_prediction_dict_per_model(assay_ls, device, fold_id, mode = 'test'):\n",
    "    # graph model prediction, first load then predict\n",
    "    for model_architecture in ['GraphGAT', 'GraphGIN', 'GraphSAGE']:\n",
    "        prediction_dic = {}\n",
    "        for random_seed in range(11):\n",
    "            model_args = [\n",
    "                \"--num_encoder\", \"2\",\n",
    "                \"--dataset\", \"fsmol\",\n",
    "                \"--encode_method\", model_architecture,\n",
    "                \"--random_seed\", str(random_seed),\n",
    "            ]\n",
    "            args_graph = parse_args(model_args)\n",
    "            graph_model = load_graph_model(args_graph)\n",
    "            if graph_model is None:\n",
    "                continue\n",
    "            graph_model.eval()\n",
    "            with torch.no_grad():\n",
    "                graph_model.to(device)\n",
    "                for assay_id in assay_ls:\n",
    "                    if assay_id not in prediction_dic:\n",
    "                        prediction_dic[assay_id] = []\n",
    "                    if mode == 'test':\n",
    "                        task_data_fp = data_test_fp.tensorize_test(assay_id, fold_id)\n",
    "                        task_data_graph = data_test_graph.smiles_to_graph_test(assay_id, fold_id)\n",
    "                    elif mode == 'valid':\n",
    "                        task_data_fp = data_valid_fp.tensorize_test(assay_id, fold_id)\n",
    "                        task_data_graph = data_valid_graph.smiles_to_graph_test(assay_id, fold_id)\n",
    "                    result_ls = [x.detach().cpu().numpy().reshape(-1) for x in graph_model.prediction_seperate(task_data_graph, device)]\n",
    "                    prediction_dic[assay_id].extend(result_ls)\n",
    "                    torch.cuda.empty_cache()\n",
    "        with open(f'../Result_for_publication/fsmol/Fold_{fold_id}/{model_architecture}_prediction_dic.pkl', 'wb') as f:\n",
    "            pickle.dump(prediction_dic, f)\n",
    "    # FP model prediction, first load then predict\n",
    "    model_args = [\n",
    "    \"--num_encoder\", \"50\",\n",
    "    \"--dataset\", \"fsmol\",\n",
    "    \"--encode_method\", \"FP\",\n",
    "]\n",
    "    args_fp = parse_args(model_args)\n",
    "    fp_model = load_fp_model(args_fp).to(device)\n",
    "    fp_model.eval()\n",
    "    prediction_dic = {}\n",
    "    label_dic = {}\n",
    "    with torch.no_grad():\n",
    "        for assay_id in assay_ls:\n",
    "            if mode == 'test':\n",
    "                task_data_fp = data_test_fp.tensorize_test(assay_id, fold_id)\n",
    "                task_data_graph = data_test_graph.smiles_to_graph_test(assay_id, fold_id)\n",
    "            elif mode == 'valid':\n",
    "                task_data_fp = data_valid_fp.tensorize_test(assay_id, fold_id)\n",
    "                task_data_graph = data_valid_graph.smiles_to_graph_test(assay_id, fold_id)\n",
    "            result_ls = [x.detach().cpu().numpy().reshape(-1) for x in fp_model.prediction_seperate(task_data_fp, device)]\n",
    "            prediction_dic[assay_id] = result_ls\n",
    "            label_dic[assay_id] = task_data_fp[3].numpy()\n",
    "            torch.cuda.empty_cache()\n",
    "    with open(f'../Result_for_publication/fsmol/Fold_{fold_id}/{'FP'}_prediction_dic.pkl', 'wb') as f:\n",
    "        pickle.dump(prediction_dic, f)\n",
    "    with open(f'../Result_for_publication/fsmol/Fold_{fold_id}/label_dic.pkl', 'wb') as f:\n",
    "        pickle.dump(label_dic, f)\n",
    "    return None"
   ]
  },
  {
   "cell_type": "code",
   "execution_count": 25,
   "metadata": {},
   "outputs": [
    {
     "name": "stderr",
     "output_type": "stream",
     "text": [
      "/tmp/ipykernel_2138243/1575216691.py:9: FutureWarning: You are using `torch.load` with `weights_only=False` (the current default value), which uses the default pickle module implicitly. It is possible to construct malicious pickle data which will execute arbitrary code during unpickling (See https://github.com/pytorch/pytorch/blob/main/SECURITY.md#untrusted-models for more details). In a future release, the default value for `weights_only` will be flipped to `True`. This limits the functions that could be executed during unpickling. Arbitrary objects will no longer be allowed to be loaded via this mode unless they are explicitly allowlisted by the user via `torch.serialization.add_safe_globals`. We recommend you start setting `weights_only=True` for any use case where you don't have full control of the loaded file. Please open an issue on GitHub for any issues related to this experimental feature.\n",
      "  state_dict = torch.load(model_path)\n",
      "/tmp/ipykernel_2138243/1570656503.py:8: FutureWarning: You are using `torch.load` with `weights_only=False` (the current default value), which uses the default pickle module implicitly. It is possible to construct malicious pickle data which will execute arbitrary code during unpickling (See https://github.com/pytorch/pytorch/blob/main/SECURITY.md#untrusted-models for more details). In a future release, the default value for `weights_only` will be flipped to `True`. This limits the functions that could be executed during unpickling. Arbitrary objects will no longer be allowed to be loaded via this mode unless they are explicitly allowlisted by the user via `torch.serialization.add_safe_globals`. We recommend you start setting `weights_only=True` for any use case where you don't have full control of the loaded file. Please open an issue on GitHub for any issues related to this experimental feature.\n",
      "  state_dict = torch.load(model_path)\n"
     ]
    }
   ],
   "source": [
    "device = 'cuda:0'\n",
    "for fold_id in range(5):\n",
    "    get_prediction_dict_per_model(test_assay_ls, device, fold_id, 'test')"
   ]
  },
  {
   "cell_type": "code",
   "execution_count": null,
   "metadata": {},
   "outputs": [],
   "source": []
  },
  {
   "cell_type": "code",
   "execution_count": null,
   "metadata": {},
   "outputs": [],
   "source": []
  },
  {
   "cell_type": "markdown",
   "metadata": {},
   "source": [
    "### Load prediction data"
   ]
  },
  {
   "cell_type": "code",
   "execution_count": 74,
   "metadata": {},
   "outputs": [
    {
     "name": "stdout",
     "output_type": "stream",
     "text": [
      "0.3579320561908158\n"
     ]
    }
   ],
   "source": [
    "r2_fold_ls = []\n",
    "for fold_id in range(5):\n",
    "    with open(f'../Result_for_publication/fsmol/Fold_{fold_id}/label_dic.pkl', 'rb') as f:\n",
    "        label_dic = pickle.load(f)\n",
    "    with open(f'../Result_for_publication/fsmol/Fold_{fold_id}/FP_prediction_dic.pkl', 'rb') as f:\n",
    "        FP_prediction_dic = pickle.load(f)\n",
    "    with open(f'../Result_for_publication/fsmol/Fold_{fold_id}/GraphGAT_prediction_dic.pkl', 'rb') as f:\n",
    "        GraphGAT_prediction_dic = pickle.load(f)\n",
    "    with open(f'../Result_for_publication/fsmol/Fold_{fold_id}/GraphGIN_prediction_dic.pkl', 'rb') as f:\n",
    "        GraphGIN_prediction_dic = pickle.load(f)\n",
    "    with open(f'../Result_for_publication/fsmol/Fold_{fold_id}/GraphSAGE_prediction_dic.pkl', 'rb') as f:\n",
    "        GraphSAGE_prediction_dic = pickle.load(f)\n",
    "    r2_all = []\n",
    "    for assay_id in label_dic:\n",
    "        label = label_dic[assay_id]\n",
    "        GAT_prediction = 0\n",
    "        for i in range(11):\n",
    "            GAT_prediction += GraphGAT_prediction_dic[assay_id][i]\n",
    "        GAT_prediction /= len(GraphGAT_prediction_dic[assay_id])\n",
    "        GIN_prediction = 0\n",
    "        for i in range(11):\n",
    "            GIN_prediction += GraphGIN_prediction_dic[assay_id][i]\n",
    "        GIN_prediction /= len(GraphGIN_prediction_dic[assay_id])\n",
    "        SAGE_prediction = 0\n",
    "        for i in range(len(GraphSAGE_prediction_dic[assay_id])):\n",
    "            SAGE_prediction += GraphSAGE_prediction_dic[assay_id][i]\n",
    "        SAGE_prediction /= len(GraphSAGE_prediction_dic[assay_id])\n",
    "        FP_prediction = 0\n",
    "        for i in range(50):\n",
    "            FP_prediction += FP_prediction_dic[assay_id][i]\n",
    "        FP_prediction /= len(FP_prediction_dic[assay_id])\n",
    "        prediction_all = GAT_prediction + GIN_prediction + FP_prediction\n",
    "        r2 = np.corrcoef(label, prediction_all)[0,1]**2\n",
    "        r2_all.append(r2)\n",
    "    r2_fold_ls.append(np.mean(r2_all))\n",
    "print(np.mean(r2_fold_ls))"
   ]
  },
  {
   "cell_type": "code",
   "execution_count": 53,
   "metadata": {},
   "outputs": [
    {
     "name": "stdout",
     "output_type": "stream",
     "text": [
      "0.3589377484590077\n"
     ]
    }
   ],
   "source": [
    "r2_all = []\n",
    "for assay_id in label_dic:\n",
    "    label = label_dic[assay_id]\n",
    "    GAT_prediction = 0\n",
    "    for i in range(len(GraphGAT_prediction_dic[assay_id])):\n",
    "        GAT_prediction += GraphGAT_prediction_dic[assay_id][i]\n",
    "    GAT_prediction /= len(GraphGAT_prediction_dic[assay_id])\n",
    "    GIN_prediction = 0\n",
    "    for i in range(len(GraphGIN_prediction_dic[assay_id])):\n",
    "        GIN_prediction += GraphGIN_prediction_dic[assay_id][i]\n",
    "    GIN_prediction /= len(GraphGIN_prediction_dic[assay_id])\n",
    "    SAGE_prediction = 0\n",
    "    for i in range(len(GraphSAGE_prediction_dic[assay_id])):\n",
    "        SAGE_prediction += GraphSAGE_prediction_dic[assay_id][i]\n",
    "    SAGE_prediction /= len(GraphSAGE_prediction_dic[assay_id])\n",
    "    FP_prediction = 0\n",
    "    for i in range(len(FP_prediction_dic[assay_id])):\n",
    "        FP_prediction += FP_prediction_dic[assay_id][i]\n",
    "    FP_prediction /= len(FP_prediction_dic[assay_id])\n",
    "    prediction_all = GAT_prediction + GIN_prediction + FP_prediction\n",
    "    r2 = np.corrcoef(label, prediction_all)[0,1]**2\n",
    "    r2_all.append(r2)\n",
    "print(np.mean(r2_all))"
   ]
  },
  {
   "cell_type": "code",
   "execution_count": null,
   "metadata": {},
   "outputs": [],
   "source": []
  },
  {
   "cell_type": "code",
   "execution_count": null,
   "metadata": {},
   "outputs": [],
   "source": []
  },
  {
   "cell_type": "code",
   "execution_count": 12,
   "metadata": {},
   "outputs": [],
   "source": [
    "r2_all = []\n",
    "for file in os.listdir('../Result_for_publication/fsmol/Fold_0/'):\n",
    "    r2_temp = []\n",
    "    with open(os.path.join('../Result_for_publication/fsmol/Fold_0/',file), 'rb') as f:\n",
    "        prediction_dic = pickle.load(f)\n",
    "        assay_id = f.name.split('/')[-1].split('_')[0]\n",
    "        predictions = 0\n",
    "        for model_architecture in ['GraphGAT', 'GraphGIN', 'FP']:\n",
    "            for pred in prediction_dic[model_architecture]:\n",
    "                predictions = predictions + pred\n",
    "                r2 = np.corrcoef(predictions, prediction_dic['label'])[0,1]**2\n",
    "                r2_temp.append(r2)\n",
    "        r2_all.append(r2_temp)"
   ]
  },
  {
   "cell_type": "code",
   "execution_count": 13,
   "metadata": {},
   "outputs": [
    {
     "data": {
      "text/plain": [
       "array([0.25838974, 0.29894342, 0.31340184, 0.31980244, 0.32545283,\n",
       "       0.3282525 , 0.33042053, 0.33409571, 0.33588793, 0.33687439,\n",
       "       0.33819697, 0.33895774, 0.34032419, 0.34088705, 0.3413782 ,\n",
       "       0.34124164, 0.34245321, 0.34350225, 0.3452554 , 0.34675946,\n",
       "       0.34772487, 0.34813144, 0.34857796, 0.34892422, 0.34994362,\n",
       "       0.35051447, 0.35129061, 0.35090529, 0.35251217, 0.35390182,\n",
       "       0.35479962, 0.35610036, 0.35693849, 0.35710935, 0.35783636,\n",
       "       0.3580899 , 0.35823326, 0.35843064, 0.35866691, 0.35896033,\n",
       "       0.35915937, 0.35896324, 0.35893691, 0.35884749, 0.35884539,\n",
       "       0.35884093, 0.3586924 , 0.35870201, 0.35873038, 0.35854405,\n",
       "       0.35835271, 0.35826526, 0.35838539, 0.35806821, 0.35794055,\n",
       "       0.3577109 , 0.35742788, 0.35707773, 0.35702748, 0.35703141,\n",
       "       0.35687366, 0.35663597, 0.35640636, 0.3563003 , 0.35613367,\n",
       "       0.35589164, 0.3555196 , 0.3552287 , 0.35518676, 0.35496985,\n",
       "       0.35483528, 0.35468238, 0.35449071, 0.35449466, 0.35432746,\n",
       "       0.35413389, 0.35394212, 0.35359991])"
      ]
     },
     "execution_count": 13,
     "metadata": {},
     "output_type": "execute_result"
    }
   ],
   "source": [
    "r2_all_array = np.array(r2_all)\n",
    "r2_all_array.mean(axis=0)"
   ]
  },
  {
   "cell_type": "code",
   "execution_count": 14,
   "metadata": {},
   "outputs": [
    {
     "data": {
      "text/plain": [
       "[<matplotlib.lines.Line2D at 0x7664db600560>]"
      ]
     },
     "execution_count": 14,
     "metadata": {},
     "output_type": "execute_result"
    },
    {
     "data": {
      "image/png": "[encoded data removed]",
      "text/plain": [
       "<Figure size 640x480 with 1 Axes>"
      ]
     },
     "metadata": {},
     "output_type": "display_data"
    }
   ],
   "source": [
    "plt.plot(r2_all_array.mean(axis=0))"
   ]
  },
  {
   "cell_type": "code",
   "execution_count": null,
   "metadata": {},
   "outputs": [],
   "source": []
  },
  {
   "cell_type": "markdown",
   "metadata": {},
   "source": [
    "## performance analysis "
   ]
  },
  {
   "cell_type": "code",
   "execution_count": null,
   "metadata": {},
   "outputs": [
    {
     "name": "stderr",
     "output_type": "stream",
     "text": [
      "/tmp/ipykernel_991847/3854074521.py:17: UserWarning: To copy construct from a tensor, it is recommended to use sourceTensor.clone().detach() or sourceTensor.clone().detach().requires_grad_(True), rather than torch.tensor(sourceTensor).\n",
      "  r2 = np.corrcoef(torch.tensor(y_label).reshape(-1), prediction.detach().cpu().numpy().reshape(-1))[0,1]**2\n"
     ]
    },
    {
     "name": "stdout",
     "output_type": "stream",
     "text": [
      "[0.3536000867723633, 0.3515763975053103, 0.3683508062817459, 0.3484346178556437, 0.34928082851017367] 0.35424854738504735\n"
     ]
    }
   ],
   "source": [
    "r2_ls_fold = []\n",
    "for fold_id in range(5):\n",
    "    r2_ls_graph = get_model_performance_overall_combine(test_assay_ls, model_ls, fp_model, device, fold_id, 'test')\n",
    "    r2_ls_fold.append(np.mean(r2_ls_graph))\n",
    "print(r2_ls_fold,np.mean(r2_ls_fold))"
   ]
  },
  {
   "cell_type": "code",
   "execution_count": 14,
   "metadata": {},
   "outputs": [
    {
     "name": "stdout",
     "output_type": "stream",
     "text": [
      "[0.35090627725752666, 0.34574344406430696, 0.35974062016998226, 0.33428008965083833, 0.34033690686505147] 0.34620146760154114\n"
     ]
    }
   ],
   "source": [
    "r2_ls_fold = []\n",
    "for fold_id in range(5):\n",
    "    r2_ls_graph = get_model_performance_overall_combine(test_assay_ls, model_ls, fp_model, fold_id, 'test')\n",
    "    r2_ls_fold.append(np.mean(r2_ls_graph))\n",
    "print(r2_ls_fold,np.mean(r2_ls_fold))"
   ]
  },
  {
   "cell_type": "code",
   "execution_count": 11,
   "metadata": {},
   "outputs": [
    {
     "name": "stdout",
     "output_type": "stream",
     "text": [
      "[0.34676080861023645, 0.34001529593583874, 0.3581471294555243, 0.3291381092584444, 0.33525244364210216] 0.3418627573804292\n"
     ]
    }
   ],
   "source": [
    "r2_ls_fold = []\n",
    "for fold_id in range(5):\n",
    "    r2_ls_graph = get_model_performance_overall_combine(test_assay_ls, model_ls, fp_model, fold_id, 'test')\n",
    "    r2_ls_fold.append(np.mean(r2_ls_graph))\n",
    "print(r2_ls_fold,np.mean(r2_ls_fold))"
   ]
  },
  {
   "cell_type": "code",
   "execution_count": 31,
   "metadata": {},
   "outputs": [
    {
     "name": "stdout",
     "output_type": "stream",
     "text": [
      "[0.34124305154047907, 0.33429049317908904, 0.3544312429865615, 0.3243167483168465, 0.33257982033558037] 0.33737227127171127\n"
     ]
    }
   ],
   "source": [
    "r2_ls_fold = []\n",
    "for fold_id in range(5):\n",
    "    r2_ls_graph = get_model_performance_overall_combine(test_assay_ls, model_ls, fp_model, fold_id, 'test')\n",
    "    r2_ls_fold.append(np.mean(r2_ls_graph))\n",
    "print(r2_ls_fold,np.mean(r2_ls_fold))"
   ]
  },
  {
   "cell_type": "code",
   "execution_count": 29,
   "metadata": {},
   "outputs": [
    {
     "name": "stdout",
     "output_type": "stream",
     "text": [
      "[0.3408887960003255, 0.3326585830346959, 0.353235820195374, 0.3224689266240401, 0.33105475080677427] 0.336061375332242\n"
     ]
    }
   ],
   "source": [
    "r2_ls_fold = []\n",
    "for fold_id in range(5):\n",
    "    r2_ls_graph = get_model_performance_overall_combine(test_assay_ls, model_ls, fp_model, fold_id, 'test')\n",
    "    r2_ls_fold.append(np.mean(r2_ls_graph))\n",
    "print(r2_ls_fold,np.mean(r2_ls_fold))"
   ]
  },
  {
   "cell_type": "code",
   "execution_count": 27,
   "metadata": {},
   "outputs": [
    {
     "name": "stdout",
     "output_type": "stream",
     "text": [
      "[0.3389598601008053, 0.32994289753704054, 0.3520788522282898, 0.32100578754095677, 0.32993013536173615] 0.33438350655376575\n"
     ]
    }
   ],
   "source": [
    "r2_ls_fold = []\n",
    "for fold_id in range(5):\n",
    "    r2_ls_graph = get_model_performance_overall_combine(test_assay_ls, model_ls, fp_model, fold_id, 'test')\n",
    "    r2_ls_fold.append(np.mean(r2_ls_graph))\n",
    "print(r2_ls_fold,np.mean(r2_ls_fold))"
   ]
  },
  {
   "cell_type": "code",
   "execution_count": 25,
   "metadata": {},
   "outputs": [
    {
     "name": "stdout",
     "output_type": "stream",
     "text": [
      "[0.3368769377897742, 0.32493789592481026, 0.34810858197283356, 0.3167857291405009, 0.3273988213573304] 0.33082159323704985\n"
     ]
    }
   ],
   "source": [
    "r2_ls_fold = []\n",
    "for fold_id in range(5):\n",
    "    r2_ls_graph = get_model_performance_overall_combine(test_assay_ls, model_ls,fp_model, fold_id, 'test')\n",
    "    r2_ls_fold.append(np.mean(r2_ls_graph))\n",
    "print(r2_ls_fold,np.mean(r2_ls_fold))"
   ]
  },
  {
   "cell_type": "code",
   "execution_count": 19,
   "metadata": {},
   "outputs": [
    {
     "name": "stdout",
     "output_type": "stream",
     "text": [
      "[0.3340978315116516, 0.3188870908666155, 0.34326885732316437, 0.31365926049244675, 0.32361275531649203] 0.3267051591020741\n"
     ]
    }
   ],
   "source": [
    "r2_ls_fold = []\n",
    "for fold_id in range(5):\n",
    "    r2_ls_graph = get_model_performance_overall_combine(test_assay_ls, model_ls,fp_model, fold_id, 'test')\n",
    "    r2_ls_fold.append(np.mean(r2_ls_graph))\n",
    "print(r2_ls_fold,np.mean(r2_ls_fold))"
   ]
  },
  {
   "cell_type": "code",
   "execution_count": 21,
   "metadata": {},
   "outputs": [
    {
     "name": "stdout",
     "output_type": "stream",
     "text": [
      "[0.32825491942645535, 0.3122822984478497, 0.3355368097203841, 0.308689421236851, 0.319703338742639] 0.32089335751483583\n"
     ]
    }
   ],
   "source": [
    "r2_ls_fold = []\n",
    "for fold_id in range(5):\n",
    "    r2_ls_graph = get_model_performance_overall_combine(test_assay_ls, model_ls,fp_model, fold_id, 'test')\n",
    "    r2_ls_fold.append(np.mean(r2_ls_graph))\n",
    "print(r2_ls_fold,np.mean(r2_ls_fold))"
   ]
  },
  {
   "cell_type": "code",
   "execution_count": 23,
   "metadata": {},
   "outputs": [
    {
     "name": "stdout",
     "output_type": "stream",
     "text": [
      "[0.3198074552812821, 0.3036073623134336, 0.32826100750579623, 0.2996257923659276, 0.3074256168585508] 0.31174544686499805\n"
     ]
    }
   ],
   "source": [
    "r2_ls_fold = []\n",
    "for fold_id in range(5):\n",
    "    r2_ls_graph = get_model_performance_overall_combine(test_assay_ls, model_ls,fp_model, fold_id, 'test')\n",
    "    r2_ls_fold.append(np.mean(r2_ls_graph))\n",
    "print(r2_ls_fold,np.mean(r2_ls_fold))"
   ]
  },
  {
   "cell_type": "markdown",
   "metadata": {},
   "source": [
    "## Bias-Variance decomposition"
   ]
  },
  {
   "cell_type": "code",
   "execution_count": null,
   "metadata": {},
   "outputs": [],
   "source": []
  }
 ],
 "metadata": {
  "kernelspec": {
   "display_name": "deep_gp",
   "language": "python",
   "name": "python3"
  },
  "language_info": {
   "codemirror_mode": {
    "name": "ipython",
    "version": 3
   },
   "file_extension": ".py",
   "mimetype": "text/x-python",
   "name": "python",
   "nbconvert_exporter": "python",
   "pygments_lexer": "ipython3",
   "version": "3.12.4"
  }
 },
 "nbformat": 4,
 "nbformat_minor": 2
}
