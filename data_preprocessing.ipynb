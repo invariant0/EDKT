{
 "cells": [
  {
   "cell_type": "code",
   "execution_count": 1,
   "metadata": {},
   "outputs": [],
   "source": [
    "import pandas as pd \n",
    "import numpy as np \n",
    "import pickle "
   ]
  },
  {
   "cell_type": "code",
   "execution_count": 2,
   "metadata": {},
   "outputs": [],
   "source": [
    "with open('/home/warmachine/Desktop/Data_for_publication/fsmol/all_data_fp_.pkl', 'rb') as f:\n",
    "    data = pickle.load(f)"
   ]
  },
  {
   "cell_type": "code",
   "execution_count": 5,
   "metadata": {},
   "outputs": [
    {
     "data": {
      "text/plain": [
       "'CC(C)n1nc(-c2cc(O)cc(Br)c2)c2c(N)ncnc21'"
      ]
     },
     "execution_count": 5,
     "metadata": {},
     "output_type": "execute_result"
    }
   ],
   "source": [
    "data.assay_dic['CHEMBL1243966'].experiments[0].smiles"
   ]
  },
  {
   "cell_type": "code",
   "execution_count": 6,
   "metadata": {},
   "outputs": [
    {
     "data": {
      "text/plain": [
       "array([0, 1, 0, ..., 0, 0, 0], dtype=int32)"
      ]
     },
     "execution_count": 6,
     "metadata": {},
     "output_type": "execute_result"
    }
   ],
   "source": [
    "data.assay_dic['CHEMBL1243966'].experiments[0].cpd_id"
   ]
  },
  {
   "cell_type": "code",
   "execution_count": 29,
   "metadata": {},
   "outputs": [
    {
     "name": "stderr",
     "output_type": "stream",
     "text": [
      "Generating MACCS fingerprints:   0%|          | 0/4 [00:00<?, ?it/s][10:09:26] SMILES Parse Error: syntax error while parsing: INVALID_SMILES\n",
      "[10:09:26] SMILES Parse Error: Failed parsing SMILES 'INVALID_SMILES' for input: 'INVALID_SMILES'\n",
      "Generating MACCS fingerprints: 100%|██████████| 4/4 [00:00<00:00, 673.08it/s]"
     ]
    },
    {
     "name": "stdout",
     "output_type": "stream",
     "text": [
      "Combined fingerprints for 3 compounds\n",
      "Missing compounds: 0\n",
      "\n",
      "Fingerprint Information:\n",
      "Number of compounds with MACCS keys: 3\n",
      "MACCS fingerprint length: 167\n",
      "\n",
      "Similarity between CPD2 and CPD1: 0.107\n"
     ]
    },
    {
     "name": "stderr",
     "output_type": "stream",
     "text": [
      "\n",
      "/tmp/ipykernel_3313951/2193467501.py:102: UserWarning: Failed to process 1 SMILES strings\n",
      "  warnings.warn(f\"Failed to process {len(invalid_smiles)} SMILES strings\")\n"
     ]
    }
   ],
   "source": [
    "import numpy as np\n",
    "import pandas as pd\n",
    "from rdkit import Chem\n",
    "from rdkit.Chem import MACCSkeys\n",
    "from typing import Union, List, Dict\n",
    "import warnings\n",
    "from tqdm import tqdm\n",
    "\n",
    "class MACCSFingerprints:\n",
    "    def __init__(self):\n",
    "        \"\"\"\n",
    "        Initialize the MACCS fingerprint generator\n",
    "        \"\"\"\n",
    "        self.maccs_length = 167  # MACCS keys are always 167 bits\n",
    "        \n",
    "    def sanitize_smiles(self, smiles: str) -> Union[str, None]:\n",
    "        \"\"\"\n",
    "        Sanitize SMILES and return canonical SMILES\n",
    "        \n",
    "        Args:\n",
    "            smiles (str): Input SMILES string\n",
    "            \n",
    "        Returns:\n",
    "            str or None: Canonical SMILES if valid, None if invalid\n",
    "        \"\"\"\n",
    "        try:\n",
    "            mol = Chem.MolFromSmiles(smiles)\n",
    "            if mol is not None:\n",
    "                return Chem.MolToSmiles(mol, canonical=True)\n",
    "            return None\n",
    "        except:\n",
    "            return None\n",
    "    \n",
    "    def generate_mol_from_smiles(self, smiles: str) -> Union[Chem.Mol, None]:\n",
    "        \"\"\"\n",
    "        Generate RDKit molecule object from SMILES\n",
    "        \n",
    "        Args:\n",
    "            smiles (str): Input SMILES string\n",
    "            \n",
    "        Returns:\n",
    "            RDKit Mol object or None\n",
    "        \"\"\"\n",
    "        try:\n",
    "            mol = Chem.MolFromSmiles(smiles)\n",
    "            if mol is not None:\n",
    "                return mol\n",
    "            return None\n",
    "        except:\n",
    "            return None\n",
    "    \n",
    "    def generate_maccs(self, mol: Chem.Mol) -> np.ndarray:\n",
    "        \"\"\"\n",
    "        Generate MACCS fingerprint\n",
    "        \n",
    "        Args:\n",
    "            mol (RDKit Mol): RDKit molecule object\n",
    "            \n",
    "        Returns:\n",
    "            np.ndarray: MACCS fingerprint as numpy array\n",
    "        \"\"\"\n",
    "        maccs = MACCSkeys.GenMACCSKeys(mol)\n",
    "        return np.array(list(maccs.ToBitString())).astype(int)\n",
    "    \n",
    "    def generate_maccs_dict(self, smiles_dict: Dict[str, str]) -> Dict[str, np.ndarray]:\n",
    "        \"\"\"\n",
    "        Generate MACCS fingerprints from dictionary of compound IDs and SMILES\n",
    "        \n",
    "        Args:\n",
    "            smiles_dict: Dictionary with compound IDs as keys and SMILES as values\n",
    "            \n",
    "        Returns:\n",
    "            Dictionary with compound IDs as keys and MACCS fingerprints as values\n",
    "        \"\"\"\n",
    "        results = {}\n",
    "        invalid_smiles = []\n",
    "        \n",
    "        for cpd_id, smi in tqdm(smiles_dict.items(), desc=\"Generating MACCS fingerprints\"):\n",
    "            # Sanitize SMILES\n",
    "            canonical_smiles = self.sanitize_smiles(smi)\n",
    "            if canonical_smiles is None:\n",
    "                invalid_smiles.append((cpd_id, smi))\n",
    "                continue\n",
    "                \n",
    "            # Generate molecule\n",
    "            mol = self.generate_mol_from_smiles(canonical_smiles)\n",
    "            if mol is None:\n",
    "                invalid_smiles.append((cpd_id, smi))\n",
    "                continue\n",
    "                \n",
    "            # Generate fingerprint\n",
    "            try:\n",
    "                maccs = self.generate_maccs(mol)\n",
    "                results[cpd_id] = maccs\n",
    "                    \n",
    "            except Exception as e:\n",
    "                invalid_smiles.append((cpd_id, smi))\n",
    "                continue\n",
    "            \n",
    "        # Report invalid SMILES\n",
    "        if invalid_smiles:\n",
    "            warnings.warn(f\"Failed to process {len(invalid_smiles)} SMILES strings\")\n",
    "            \n",
    "        return results\n",
    "\n",
    "    def combine_with_ecfp(self, maccs_dict: Dict[str, np.ndarray], \n",
    "                         ecfp_dict: Dict[str, np.ndarray]) -> Dict[str, np.ndarray]:\n",
    "        \"\"\"\n",
    "        Combine MACCS fingerprints with existing ECFP dictionary\n",
    "        \n",
    "        Args:\n",
    "            maccs_dict: Dictionary with compound IDs and MACCS fingerprints\n",
    "            ecfp_dict: Dictionary with compound IDs and ECFP fingerprints\n",
    "            \n",
    "        Returns:\n",
    "            Dictionary with compound IDs and combined fingerprints\n",
    "        \"\"\"\n",
    "        combined_dict = {}\n",
    "        \n",
    "        # Find common compound IDs\n",
    "        common_cpds = set(maccs_dict.keys()) & set(ecfp_dict.keys())\n",
    "        \n",
    "        for cpd_id in common_cpds:\n",
    "            combined_dict[cpd_id] = np.concatenate([ecfp_dict[cpd_id], maccs_dict[cpd_id]])\n",
    "            \n",
    "        print(f\"Combined fingerprints for {len(combined_dict)} compounds\")\n",
    "        print(f\"Missing compounds: {len(set(maccs_dict.keys()) ^ set(ecfp_dict.keys()))}\")\n",
    "        \n",
    "        return combined_dict\n",
    "\n",
    "# Example usage\n",
    "def main():\n",
    "    # Example data\n",
    "    smiles_dict = {\n",
    "        'CPD1': \"CC(=O)OC1=CC=CC=C1C(=O)O\",  # Aspirin\n",
    "        'CPD2': \"CN1C=NC2=C1C(=O)N(C(=O)N2C)C\",  # Caffeine\n",
    "        'CPD3': \"CC12CCC3C(C1CCC2O)CCC4=CC(=O)CCC34C\",  # Testosterone\n",
    "        'CPD4': \"INVALID_SMILES\"  # Invalid SMILES\n",
    "    }\n",
    "    \n",
    "    # Example ECFP dictionary (previously generated)\n",
    "    example_ecfp_dict = {\n",
    "        'CPD1': np.zeros(1024),  # Replace with actual ECFP values\n",
    "        'CPD2': np.ones(1024),\n",
    "        'CPD3': np.ones(1024)\n",
    "    }\n",
    "    \n",
    "    # Initialize fingerprint generator\n",
    "    fp_gen = MACCSFingerprints()\n",
    "    \n",
    "    # Generate MACCS fingerprints\n",
    "    maccs_dict = fp_gen.generate_maccs_dict(smiles_dict)\n",
    "    \n",
    "    # Combine with existing ECFP\n",
    "    combined_dict = fp_gen.combine_with_ecfp(maccs_dict, example_ecfp_dict)\n",
    "    \n",
    "    # Print information\n",
    "    print(\"\\nFingerprint Information:\")\n",
    "    print(f\"Number of compounds with MACCS keys: {len(maccs_dict)}\")\n",
    "    print(f\"MACCS fingerprint length: {fp_gen.maccs_length}\")\n",
    "    \n",
    "    # Example of using fingerprints for similarity calculation\n",
    "    def calculate_similarity(fp1, fp2):\n",
    "        return np.sum(fp1 == fp2) / len(fp1)\n",
    "    \n",
    "    # Calculate similarity between first two compounds if they exist\n",
    "    cpd_ids = list(combined_dict.keys())\n",
    "    if len(cpd_ids) >= 2:\n",
    "        similarity = calculate_similarity(\n",
    "            combined_dict[cpd_ids[0]],\n",
    "            combined_dict[cpd_ids[1]]\n",
    "        )\n",
    "        print(f\"\\nSimilarity between {cpd_ids[0]} and {cpd_ids[1]}: {similarity:.3f}\")\n",
    "\n",
    "if __name__ == \"__main__\":\n",
    "    main()"
   ]
  },
  {
   "cell_type": "code",
   "execution_count": 31,
   "metadata": {},
   "outputs": [
    {
     "name": "stderr",
     "output_type": "stream",
     "text": [
      "Generating MACCS fingerprints:   0%|          | 0/4 [00:00<?, ?it/s][10:10:21] SMILES Parse Error: syntax error while parsing: INVALID_SMILES\n",
      "[10:10:21] SMILES Parse Error: Failed parsing SMILES 'INVALID_SMILES' for input: 'INVALID_SMILES'\n",
      "Generating MACCS fingerprints: 100%|██████████| 4/4 [00:00<00:00, 315.97it/s]\n",
      "/tmp/ipykernel_3313951/2193467501.py:102: UserWarning: Failed to process 1 SMILES strings\n",
      "  warnings.warn(f\"Failed to process {len(invalid_smiles)} SMILES strings\")\n"
     ]
    }
   ],
   "source": [
    "fp_gen = MACCSFingerprints()\n",
    "smiles_dict = {\n",
    "        'CPD1': \"CC(=O)OC1=CC=CC=C1C(=O)O\",  # Aspirin\n",
    "        'CPD2': \"CN1C=NC2=C1C(=O)N(C(=O)N2C)C\",  # Caffeine\n",
    "        'CPD3': \"CC12CCC3C(C1CCC2O)CCC4=CC(=O)CCC34C\",  # Testosterone\n",
    "        'CPD4': \"INVALID_SMILES\"  # Invalid SMILES\n",
    "    }\n",
    "maccs_dict = fp_gen.generate_maccs_dict(smiles_dict)"
   ]
  },
  {
   "cell_type": "code",
   "execution_count": 32,
   "metadata": {},
   "outputs": [
    {
     "data": {
      "text/plain": [
       "{'CPD1': array([0, 0, 0, 0, 0, 0, 0, 0, 0, 0, 0, 0, 0, 0, 0, 0, 0, 0, 0, 0, 0, 0,\n",
       "        0, 0, 0, 0, 0, 0, 0, 0, 0, 0, 0, 0, 0, 0, 0, 0, 0, 0, 0, 0, 0, 0,\n",
       "        0, 0, 0, 0, 0, 0, 0, 0, 0, 0, 0, 0, 0, 0, 0, 0, 0, 0, 0, 0, 0, 0,\n",
       "        0, 0, 0, 0, 0, 0, 0, 0, 0, 0, 0, 0, 0, 0, 0, 0, 0, 0, 0, 0, 0, 0,\n",
       "        0, 1, 0, 0, 0, 0, 0, 0, 0, 0, 0, 0, 0, 0, 0, 0, 0, 0, 0, 0, 0, 0,\n",
       "        0, 0, 0, 1, 0, 0, 0, 0, 0, 0, 0, 0, 0, 1, 0, 0, 1, 1, 0, 0, 0, 0,\n",
       "        0, 0, 0, 0, 1, 0, 0, 1, 1, 0, 0, 1, 1, 0, 1, 0, 0, 0, 1, 0, 1, 0,\n",
       "        1, 0, 0, 1, 0, 1, 1, 0, 1, 1, 1, 1, 0]),\n",
       " 'CPD2': array([0, 0, 0, 0, 0, 0, 0, 0, 0, 0, 0, 0, 0, 0, 0, 0, 0, 0, 0, 0, 0, 0,\n",
       "        0, 0, 0, 0, 0, 0, 0, 0, 0, 0, 0, 0, 0, 0, 0, 1, 1, 0, 0, 0, 0, 0,\n",
       "        0, 0, 0, 0, 0, 0, 0, 0, 0, 0, 0, 0, 0, 0, 0, 0, 0, 0, 0, 0, 0, 1,\n",
       "        0, 0, 0, 0, 0, 0, 0, 0, 0, 1, 0, 1, 0, 1, 1, 0, 0, 1, 0, 1, 0, 0,\n",
       "        0, 1, 0, 0, 1, 1, 0, 1, 1, 1, 1, 0, 0, 1, 0, 0, 0, 1, 1, 0, 0, 0,\n",
       "        1, 0, 0, 1, 0, 0, 0, 1, 0, 0, 1, 1, 1, 0, 0, 1, 0, 1, 0, 0, 0, 0,\n",
       "        0, 0, 0, 0, 1, 1, 0, 0, 0, 1, 1, 1, 1, 0, 0, 0, 1, 1, 1, 0, 0, 0,\n",
       "        1, 0, 1, 0, 1, 1, 1, 1, 1, 1, 1, 1, 0]),\n",
       " 'CPD3': array([0, 0, 0, 0, 0, 0, 0, 0, 0, 0, 0, 0, 0, 0, 0, 0, 0, 0, 0, 0, 0, 0,\n",
       "        0, 0, 0, 0, 1, 0, 0, 0, 0, 0, 0, 0, 0, 0, 0, 0, 0, 0, 0, 0, 0, 0,\n",
       "        0, 0, 0, 0, 0, 0, 1, 0, 0, 0, 0, 0, 0, 0, 0, 0, 0, 0, 0, 0, 0, 0,\n",
       "        1, 0, 0, 0, 0, 0, 0, 0, 0, 0, 1, 0, 0, 0, 0, 0, 0, 0, 0, 0, 0, 0,\n",
       "        0, 0, 1, 1, 0, 0, 0, 0, 1, 0, 0, 1, 0, 1, 0, 0, 1, 1, 0, 0, 1, 0,\n",
       "        0, 0, 1, 0, 0, 1, 1, 0, 1, 0, 0, 0, 0, 0, 0, 0, 0, 1, 1, 1, 0, 0,\n",
       "        1, 0, 0, 0, 0, 0, 0, 1, 0, 0, 0, 1, 0, 1, 0, 1, 0, 1, 1, 0, 1, 0,\n",
       "        1, 0, 0, 1, 0, 1, 1, 0, 0, 1, 1, 1, 0])}"
      ]
     },
     "execution_count": 32,
     "metadata": {},
     "output_type": "execute_result"
    }
   ],
   "source": [
    "maccs_dict"
   ]
  },
  {
   "cell_type": "code",
   "execution_count": null,
   "metadata": {},
   "outputs": [],
   "source": []
  }
 ],
 "metadata": {
  "kernelspec": {
   "display_name": "deep_gp",
   "language": "python",
   "name": "python3"
  },
  "language_info": {
   "codemirror_mode": {
    "name": "ipython",
    "version": 3
   },
   "file_extension": ".py",
   "mimetype": "text/x-python",
   "name": "python",
   "nbconvert_exporter": "python",
   "pygments_lexer": "ipython3",
   "version": "3.12.4"
  }
 },
 "nbformat": 4,
 "nbformat_minor": 2
}
